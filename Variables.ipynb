{
  "nbformat": 4,
  "nbformat_minor": 0,
  "metadata": {
    "colab": {
      "provenance": [],
      "authorship_tag": "ABX9TyOXue4EAFuKVF/juRoFHPMS",
      "include_colab_link": true
    },
    "kernelspec": {
      "name": "python3",
      "display_name": "Python 3"
    },
    "language_info": {
      "name": "python"
    }
  },
  "cells": [
    {
      "cell_type": "markdown",
      "metadata": {
        "id": "view-in-github",
        "colab_type": "text"
      },
      "source": [
        "<a href=\"https://colab.research.google.com/github/Luigiart/PRACTICA-1/blob/main/Variables.ipynb\" target=\"_parent\"><img src=\"https://colab.research.google.com/assets/colab-badge.svg\" alt=\"Open In Colab\"/></a>"
      ]
    },
    {
      "cell_type": "code",
      "execution_count": 5,
      "metadata": {
        "colab": {
          "base_uri": "https://localhost:8080/",
          "height": 0
        },
        "id": "S7DE9W2wxpsT",
        "outputId": "0ce97af4-673e-4197-b067-861c6579a9be"
      },
      "outputs": [
        {
          "output_type": "stream",
          "name": "stdout",
          "text": [
            "Mi nombre es luigi\n"
          ]
        }
      ],
      "source": [
        "minombre= \"luigi\"\n",
        "print('Mi nombre es',minombre)"
      ]
    },
    {
      "cell_type": "code",
      "source": [
        "estadoemocional= \"Feliz\"\n",
        "print('Como te sientes al saber que murió piñera:?', estadoemocional)"
      ],
      "metadata": {
        "colab": {
          "base_uri": "https://localhost:8080/",
          "height": 0
        },
        "id": "KQcUn_SJ2pvm",
        "outputId": "8164368a-889e-408d-deb8-a155bf33a8f4"
      },
      "execution_count": 8,
      "outputs": [
        {
          "output_type": "stream",
          "name": "stdout",
          "text": [
            "como te sientes al saber que murió piñera:? Feliz\n"
          ]
        }
      ]
    },
    {
      "cell_type": "code",
      "source": [
        "\n"
      ],
      "metadata": {
        "id": "3G18D5OO4EQ2"
      },
      "execution_count": 14,
      "outputs": []
    },
    {
      "cell_type": "code",
      "source": [
        "# Asignamos la cadena de texto '10' a la variable number\n",
        "number = '21'\n",
        "\n",
        "# Imprimimos el valor de la variable number, que es una cadena de texto\n",
        "print(number)\n",
        "\n",
        "# Convertimos la cadena de texto '10' a un entero utilizando la función int() y luego verificamos si es par o impar\n",
        "if int(number) % 2 == 0:\n",
        "    # Si el número convertido a entero es divisible por 2 (es par), imprimimos 'Es par'\n",
        "    print('Es par')\n",
        "else:\n",
        "    # Si el número convertido a entero no es divisible por 2 (es impar), imprimimos 'Es impar'\n",
        "    print('Es impar')"
      ],
      "metadata": {
        "colab": {
          "base_uri": "https://localhost:8080/"
        },
        "id": "JTXMyrX48b24",
        "outputId": "82c74ded-99f6-43e4-d60f-fef2ded1a496"
      },
      "execution_count": 16,
      "outputs": [
        {
          "output_type": "stream",
          "name": "stdout",
          "text": [
            "21\n",
            "Es impar\n"
          ]
        }
      ]
    },
    {
      "cell_type": "code",
      "source": [
        "def mi_funcion(filas, objetos):\n",
        "  resultado = filas * objetos\n",
        "  return  resultado"
      ],
      "metadata": {
        "id": "gjnC3m1qhmqc"
      },
      "execution_count": 24,
      "outputs": []
    },
    {
      "cell_type": "code",
      "source": [
        "filas=16\n",
        "objetos=5\n",
        "resultado= mi_funcion(filas,objetos)\n",
        "print( 'El total de productos es:', resultado)"
      ],
      "metadata": {
        "colab": {
          "base_uri": "https://localhost:8080/"
        },
        "id": "15DOPBKqiTMF",
        "outputId": "f10291de-68bb-44f3-d8df-f66c8a77111e"
      },
      "execution_count": 26,
      "outputs": [
        {
          "output_type": "stream",
          "name": "stdout",
          "text": [
            "el total de productos es: 80\n"
          ]
        }
      ]
    }
  ]
}